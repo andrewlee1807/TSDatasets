{
 "cells": [
  {
   "cell_type": "code",
   "execution_count": 1,
   "metadata": {},
   "outputs": [
    {
     "name": "stderr",
     "output_type": "stream",
     "text": [
      "2022-06-14 17:10:52.948701: I tensorflow/core/util/util.cc:169] oneDNN custom operations are on. You may see slightly different numerical results due to floating-point round-off errors from different computation orders. To turn them off, set the environment variable `TF_ENABLE_ONEDNN_OPTS=0`.\n"
     ]
    }
   ],
   "source": [
    "from utils import HouseholdDataLoader, TSF_Data\n",
    "\n",
    "dataload = HouseholdDataLoader()\n",
    "data = dataload.data_by_days\n",
    "\n",
    "tsf = TSF_Data(data=data['Global_active_power'],\n",
    "               input_width=21,\n",
    "               output_width=7)\n",
    "\n",
    "tsf.normalize_data()"
   ]
  },
  {
   "cell_type": "code",
   "execution_count": 2,
   "metadata": {},
   "outputs": [],
   "source": [
    "from keras.callbacks import EarlyStopping, ModelCheckpoint, ReduceLROnPlateau\n",
    "from keras.layers import Dense, LSTM\n",
    "from keras import Sequential\n",
    "import tensorflow as tf\n",
    "from tensorflow.keras import Model\n",
    "from tensorflow.keras.layers import Dense, Input\n",
    "from tcn import TCN\n",
    "\n",
    "input_width = tsf.data_train[0].shape[1]\n",
    "num_features = 1\n",
    "\n",
    "inputs = Input(shape=(input_width, num_features))\n",
    "\n",
    "\n",
    "def model_builder(hp):\n",
    "    kernel_size = hp.Choice('kernel_size', values=[2, 3, 5, 7])\n",
    "    nb_filters = hp.Choice('nb_filters', values=[16, 32, 64,128])\n",
    "    use_skip_connections = hp.Choice(\n",
    "        'use_skip_connections', values=[True, False])\n",
    "\n",
    "    use_batch_norm = hp.Choice(\n",
    "        'use_batch_norm', values=[True, False])\n",
    "\n",
    "    def temp(x): return 2**x\n",
    "    def dilation_gen(x): return list(map(temp, range(x)))\n",
    "    dilations = hp.Choice('dilations', values=list(range(2, 8)))\n",
    "    nb_stacks = hp.Choice('nb_stacks', values=[1, 2, 3, 4, 5])\n",
    "    nb_units_lstm = hp.Int('units_LSTM', min_value=32, max_value=320, step=32)\n",
    "\n",
    "    x1 = TCN(input_shape=(input_width, 1),\n",
    "             kernel_size=kernel_size,\n",
    "             nb_filters=nb_filters,\n",
    "             dilations=dilation_gen(dilations),\n",
    "             use_skip_connections=use_skip_connections,\n",
    "             use_batch_norm=use_batch_norm,\n",
    "             use_weight_norm=False,\n",
    "             use_layer_norm=False,\n",
    "             return_sequences=True\n",
    "             )(inputs)\n",
    "\n",
    "    x2 = LSTM(nb_units_lstm)(x1)\n",
    "\n",
    "    x3 = Dense(units=tsf.data_train[1].shape[1])(x2)\n",
    "\n",
    "    model_searching = Model(inputs, x3)\n",
    "\n",
    "    # Tune the learning rate for the optimizer\n",
    "    # Choose an optimal value from 0.01, 0.001, or 0.0001\n",
    "    # hp_learning_rate = hp.Choice('learning_rate', values=[1e-2, 1e-3, 1e-4])\n",
    "\n",
    "    model_searching.summary()\n",
    "\n",
    "    model_searching.compile(loss=tf.keras.losses.Huber(),\n",
    "                            optimizer='adam',\n",
    "                            metrics=['mse'])\n",
    "\n",
    "    return model_searching"
   ]
  },
  {
   "cell_type": "code",
   "execution_count": 3,
   "metadata": {},
   "outputs": [
    {
     "name": "stdout",
     "output_type": "stream",
     "text": [
      "INFO:tensorflow:Oracle triggered exit\n"
     ]
    }
   ],
   "source": [
    "import keras_tuner as kt\n",
    "import os\n",
    "\n",
    "exp_path = \"HouseHold_TCN_Tune/Bayesian/\"\n",
    "tuning_path = exp_path + \"/models\"\n",
    "if os.path.isdir(tuning_path):\n",
    "    # x = input(\"Path is existed, Delete and do tuning?\")\n",
    "    # if x=='Y':\n",
    "    import shutil\n",
    "\n",
    "    shutil.rmtree(tuning_path)\n",
    "\n",
    "print(\"[INFO] instantiating a random search tuner object...\")\n",
    "\n",
    "tuner = kt.BayesianOptimization(\n",
    "    model_builder,\n",
    "    objective=kt.Objective(\"val_loss\", direction=\"min\"),\n",
    "    max_trials=50,\n",
    "    seed=42,\n",
    "    directory=tuning_path)\n",
    "\n",
    "# stop_early = tf.keras.callbacks.EarlyStopping(monitor='val_loss', patience=5)\n",
    "\n",
    "\n",
    "import sys\n",
    "orig_stdout = sys.stdout\n",
    "f = open('seaching_process_log.txt', 'w')\n",
    "sys.stdout = f\n",
    "\n",
    "tuner.search(tsf.data_train[0], tsf.data_train[1],\n",
    "             validation_data=tsf.data_valid,\n",
    "             callbacks=[tf.keras.callbacks.TensorBoard(exp_path + \"/log\")],\n",
    "             epochs=10)\n",
    "\n",
    "# Get the optimal hyperparameters\n",
    "best_hps = tuner.get_best_hyperparameters(num_trials=1)[0]\n",
    "\n",
    "sys.stdout = orig_stdout\n",
    "f.close()\n"
   ]
  },
  {
   "cell_type": "code",
   "execution_count": 9,
   "metadata": {},
   "outputs": [
    {
     "name": "stdout",
     "output_type": "stream",
     "text": [
      "\n",
      "kernel_size 3,  and\n",
      "nb_filters: 64, \n",
      "dilations: 7\n",
      "units_LSTM: 32\n",
      "use_skip_connections: 1\n",
      "\n"
     ]
    }
   ],
   "source": [
    "print(f\"\"\"\n",
    "kernel_size {best_hps.get('kernel_size')},  and\n",
    "nb_filters: {best_hps.get('nb_filters')}, \n",
    "dilations: {best_hps.get('dilations')}\n",
    "units_LSTM: {best_hps.get('units_LSTM')}\n",
    "use_skip_connections: {best_hps.get('use_skip_connections')}\n",
    "\"\"\")"
   ]
  },
  {
   "cell_type": "code",
   "execution_count": 8,
   "metadata": {},
   "outputs": [
    {
     "name": "stdout",
     "output_type": "stream",
     "text": [
      "Model: \"model_1\"\n",
      "_________________________________________________________________\n",
      " Layer (type)                Output Shape              Param #   \n",
      "=================================================================\n",
      " input_1 (InputLayer)        [(None, 21, 1)]           0         \n",
      "                                                                 \n",
      " tcn_1 (TCN)                 (None, 21, 128)           648576    \n",
      "                                                                 \n",
      " lstm_1 (LSTM)               (None, 32)                20608     \n",
      "                                                                 \n",
      " dense_1 (Dense)             (None, 7)                 231       \n",
      "                                                                 \n",
      "=================================================================\n",
      "Total params: 669,415\n",
      "Trainable params: 665,831\n",
      "Non-trainable params: 3,584\n",
      "_________________________________________________________________\n",
      "Train...\n",
      "Epoch 1/100\n",
      "40/40 - 5s - loss: 0.0173 - mse: 0.0347 - val_loss: 0.0116 - val_mse: 0.0232 - lr: 0.0010 - 5s/epoch - 137ms/step\n",
      "Epoch 2/100\n",
      "40/40 - 1s - loss: 0.0082 - mse: 0.0163 - val_loss: 0.0077 - val_mse: 0.0153 - lr: 0.0010 - 1s/epoch - 31ms/step\n",
      "Epoch 3/100\n",
      "40/40 - 1s - loss: 0.0075 - mse: 0.0149 - val_loss: 0.0086 - val_mse: 0.0172 - lr: 0.0010 - 1s/epoch - 32ms/step\n",
      "Epoch 4/100\n",
      "40/40 - 1s - loss: 0.0073 - mse: 0.0146 - val_loss: 0.0079 - val_mse: 0.0159 - lr: 0.0010 - 1s/epoch - 32ms/step\n",
      "Epoch 5/100\n",
      "\n",
      "Epoch 5: ReduceLROnPlateau reducing learning rate to 0.00010000000474974513.\n",
      "40/40 - 1s - loss: 0.0069 - mse: 0.0138 - val_loss: 0.0092 - val_mse: 0.0184 - lr: 0.0010 - 1s/epoch - 29ms/step\n",
      "Epoch 6/100\n",
      "40/40 - 1s - loss: 0.0060 - mse: 0.0120 - val_loss: 0.0079 - val_mse: 0.0158 - lr: 1.0000e-04 - 1s/epoch - 32ms/step\n",
      "Epoch 7/100\n",
      "40/40 - 1s - loss: 0.0060 - mse: 0.0119 - val_loss: 0.0071 - val_mse: 0.0142 - lr: 1.0000e-04 - 1s/epoch - 32ms/step\n",
      "Epoch 8/100\n",
      "40/40 - 1s - loss: 0.0057 - mse: 0.0115 - val_loss: 0.0066 - val_mse: 0.0132 - lr: 1.0000e-04 - 1s/epoch - 32ms/step\n",
      "Epoch 9/100\n",
      "40/40 - 1s - loss: 0.0056 - mse: 0.0112 - val_loss: 0.0062 - val_mse: 0.0124 - lr: 1.0000e-04 - 1s/epoch - 33ms/step\n",
      "Epoch 10/100\n",
      "40/40 - 1s - loss: 0.0055 - mse: 0.0110 - val_loss: 0.0060 - val_mse: 0.0120 - lr: 1.0000e-04 - 1s/epoch - 33ms/step\n",
      "Epoch 11/100\n",
      "40/40 - 1s - loss: 0.0054 - mse: 0.0109 - val_loss: 0.0057 - val_mse: 0.0114 - lr: 1.0000e-04 - 1s/epoch - 30ms/step\n",
      "Epoch 12/100\n",
      "40/40 - 1s - loss: 0.0053 - mse: 0.0105 - val_loss: 0.0059 - val_mse: 0.0118 - lr: 1.0000e-04 - 1s/epoch - 32ms/step\n",
      "Epoch 13/100\n",
      "40/40 - 1s - loss: 0.0051 - mse: 0.0103 - val_loss: 0.0055 - val_mse: 0.0111 - lr: 1.0000e-04 - 1s/epoch - 32ms/step\n",
      "Epoch 14/100\n",
      "40/40 - 1s - loss: 0.0050 - mse: 0.0100 - val_loss: 0.0058 - val_mse: 0.0116 - lr: 1.0000e-04 - 1s/epoch - 32ms/step\n",
      "Epoch 15/100\n",
      "40/40 - 1s - loss: 0.0048 - mse: 0.0097 - val_loss: 0.0056 - val_mse: 0.0113 - lr: 1.0000e-04 - 1s/epoch - 32ms/step\n",
      "Epoch 16/100\n",
      "40/40 - 1s - loss: 0.0049 - mse: 0.0098 - val_loss: 0.0054 - val_mse: 0.0109 - lr: 1.0000e-04 - 1s/epoch - 32ms/step\n",
      "Epoch 17/100\n",
      "40/40 - 1s - loss: 0.0047 - mse: 0.0093 - val_loss: 0.0055 - val_mse: 0.0110 - lr: 1.0000e-04 - 1s/epoch - 30ms/step\n",
      "Epoch 18/100\n",
      "40/40 - 1s - loss: 0.0046 - mse: 0.0091 - val_loss: 0.0057 - val_mse: 0.0115 - lr: 1.0000e-04 - 1s/epoch - 30ms/step\n",
      "Epoch 19/100\n",
      "\n",
      "Epoch 19: ReduceLROnPlateau reducing learning rate to 1.0000000474974514e-05.\n",
      "40/40 - 1s - loss: 0.0045 - mse: 0.0089 - val_loss: 0.0058 - val_mse: 0.0116 - lr: 1.0000e-04 - 1s/epoch - 32ms/step\n",
      "Epoch 20/100\n",
      "40/40 - 1s - loss: 0.0043 - mse: 0.0087 - val_loss: 0.0057 - val_mse: 0.0114 - lr: 1.0000e-05 - 1s/epoch - 32ms/step\n",
      "Epoch 21/100\n",
      "40/40 - 1s - loss: 0.0043 - mse: 0.0086 - val_loss: 0.0056 - val_mse: 0.0113 - lr: 1.0000e-05 - 1s/epoch - 32ms/step\n",
      "Epoch 22/100\n",
      "\n",
      "Epoch 22: ReduceLROnPlateau reducing learning rate to 1e-05.\n",
      "40/40 - 1s - loss: 0.0042 - mse: 0.0084 - val_loss: 0.0056 - val_mse: 0.0112 - lr: 1.0000e-05 - 1s/epoch - 31ms/step\n",
      "Epoch 23/100\n",
      "40/40 - 1s - loss: 0.0042 - mse: 0.0084 - val_loss: 0.0056 - val_mse: 0.0112 - lr: 1.0000e-05 - 1s/epoch - 30ms/step\n",
      "Epoch 24/100\n",
      "40/40 - 1s - loss: 0.0042 - mse: 0.0084 - val_loss: 0.0056 - val_mse: 0.0113 - lr: 1.0000e-05 - 1s/epoch - 32ms/step\n",
      "Epoch 25/100\n",
      "40/40 - 1s - loss: 0.0041 - mse: 0.0083 - val_loss: 0.0057 - val_mse: 0.0113 - lr: 1.0000e-05 - 1s/epoch - 32ms/step\n",
      "Epoch 26/100\n",
      "40/40 - 1s - loss: 0.0042 - mse: 0.0084 - val_loss: 0.0056 - val_mse: 0.0113 - lr: 1.0000e-05 - 1s/epoch - 31ms/step\n",
      "Epoch 27/100\n",
      "40/40 - 1s - loss: 0.0042 - mse: 0.0083 - val_loss: 0.0057 - val_mse: 0.0113 - lr: 1.0000e-05 - 1s/epoch - 31ms/step\n",
      "Epoch 28/100\n",
      "40/40 - 1s - loss: 0.0040 - mse: 0.0081 - val_loss: 0.0057 - val_mse: 0.0113 - lr: 1.0000e-05 - 1s/epoch - 30ms/step\n",
      "Epoch 29/100\n",
      "40/40 - 1s - loss: 0.0040 - mse: 0.0080 - val_loss: 0.0057 - val_mse: 0.0114 - lr: 1.0000e-05 - 1s/epoch - 31ms/step\n",
      "Epoch 30/100\n",
      "40/40 - 1s - loss: 0.0041 - mse: 0.0083 - val_loss: 0.0057 - val_mse: 0.0114 - lr: 1.0000e-05 - 1s/epoch - 31ms/step\n",
      "Epoch 31/100\n",
      "40/40 - 1s - loss: 0.0040 - mse: 0.0080 - val_loss: 0.0057 - val_mse: 0.0114 - lr: 1.0000e-05 - 1s/epoch - 33ms/step\n",
      "Epoch 32/100\n",
      "40/40 - 1s - loss: 0.0040 - mse: 0.0079 - val_loss: 0.0057 - val_mse: 0.0114 - lr: 1.0000e-05 - 1s/epoch - 31ms/step\n",
      "Epoch 33/100\n",
      "40/40 - 1s - loss: 0.0039 - mse: 0.0078 - val_loss: 0.0057 - val_mse: 0.0113 - lr: 1.0000e-05 - 1s/epoch - 32ms/step\n",
      "Epoch 34/100\n",
      "40/40 - 1s - loss: 0.0040 - mse: 0.0080 - val_loss: 0.0057 - val_mse: 0.0114 - lr: 1.0000e-05 - 1s/epoch - 32ms/step\n",
      "Epoch 35/100\n",
      "40/40 - 1s - loss: 0.0039 - mse: 0.0078 - val_loss: 0.0057 - val_mse: 0.0113 - lr: 1.0000e-05 - 1s/epoch - 31ms/step\n",
      "Epoch 36/100\n",
      "40/40 - 1s - loss: 0.0039 - mse: 0.0078 - val_loss: 0.0057 - val_mse: 0.0114 - lr: 1.0000e-05 - 1s/epoch - 31ms/step\n",
      "Epoch 36: early stopping\n"
     ]
    }
   ],
   "source": [
    "\n",
    "# Build the model with the optimal hyperparameters and train it on the data for 50 epochs\n",
    "model_best = tuner.hypermodel.build(best_hps)\n",
    "\n",
    "\n",
    "print('Train...')\n",
    "\n",
    "callbacks = [\n",
    "    EarlyStopping(patience=20, verbose=1),\n",
    "    ReduceLROnPlateau(factor=0.1, patience=3, min_lr=0.00001, verbose=1)\n",
    "]\n",
    "\n",
    "history = model_best.fit(x=tsf.data_train[0],\n",
    "                         y=tsf.data_train[1],\n",
    "                         validation_data=tsf.data_valid,\n",
    "                         epochs=100,\n",
    "                         callbacks=[callbacks],\n",
    "                         verbose=2,\n",
    "                         use_multiprocessing=True)\n"
   ]
  },
  {
   "cell_type": "code",
   "execution_count": 11,
   "metadata": {},
   "outputs": [
    {
     "data": {
      "image/png": "[encoded data removed]",
      "text/plain": [
       "<Figure size 432x288 with 1 Axes>"
      ]
     },
     "metadata": {
      "needs_background": "light"
     },
     "output_type": "display_data"
    }
   ],
   "source": [
    "from matplotlib import pyplot as plt\n",
    "plt.plot(history.history['mse'][5:])\n",
    "plt.plot(history.history['val_mse'][5:])\n",
    "\n",
    "plt.ylabel('loss')\n",
    "plt.xlabel('epoch')\n",
    "plt.legend(['train', 'val'], loc='upper left')\n",
    "plt.title('TCN + L.S.T.M after tunning')\n",
    "plt.show()"
   ]
  },
  {
   "cell_type": "code",
   "execution_count": null,
   "metadata": {},
   "outputs": [],
   "source": []
  }
 ],
 "metadata": {
  "kernelspec": {
   "display_name": "Python 3.9.12 ('HO')",
   "language": "python",
   "name": "python3"
  },
  "language_info": {
   "codemirror_mode": {
    "name": "ipython",
    "version": 3
   },
   "file_extension": ".py",
   "mimetype": "text/x-python",
   "name": "python",
   "nbconvert_exporter": "python",
   "pygments_lexer": "ipython3",
   "version": "3.9.12"
  },
  "orig_nbformat": 4,
  "vscode": {
   "interpreter": {
    "hash": "84bb53e1b8090cb3c37a80514771ba5588c241fa5974e3f3b4d8e396d8f231b5"
   }
  }
 },
 "nbformat": 4,
 "nbformat_minor": 2
}
