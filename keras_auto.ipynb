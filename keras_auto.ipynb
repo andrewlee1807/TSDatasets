{
 "cells": [
  {
   "cell_type": "code",
   "execution_count": 8,
   "metadata": {},
   "outputs": [],
   "source": [
    "import pandas as pd\n",
    "import tensorflow as tf\n",
    "\n",
    "import autokeras as ak\n",
    "import numpy as np"
   ]
  },
  {
   "cell_type": "code",
   "execution_count": 1,
   "metadata": {},
   "outputs": [
    {
     "name": "stderr",
     "output_type": "stream",
     "text": [
      "2022-06-16 16:08:02.650145: I tensorflow/core/util/util.cc:169] oneDNN custom operations are on. You may see slightly different numerical results due to floating-point round-off errors from different computation orders. To turn them off, set the environment variable `TF_ENABLE_ONEDNN_OPTS=0`.\n"
     ]
    }
   ],
   "source": [
    "from utils import HouseholdDataLoader, TSF_Data\n",
    "\n",
    "dataload = HouseholdDataLoader()\n",
    "data = dataload.data_by_days\n",
    "\n",
    "tsf = TSF_Data(data=data['Global_active_power'],\n",
    "               input_width=21,\n",
    "               output_width=1,\n",
    "               train_ratio=0.8)\n",
    "\n",
    "tsf.normalize_data(standardization_type=1)"
   ]
  },
  {
   "cell_type": "code",
   "execution_count": 13,
   "metadata": {},
   "outputs": [
    {
     "name": "stdout",
     "output_type": "stream",
     "text": [
      "(1015, 21, 1) (1015,)\n"
     ]
    }
   ],
   "source": [
    "print(tsf.data_train[0].shape, tsf.data_train[1].reshape(1015).shape)"
   ]
  },
  {
   "cell_type": "code",
   "execution_count": 44,
   "metadata": {},
   "outputs": [
    {
     "data": {
      "text/plain": [
       "(1037, 1)"
      ]
     },
     "execution_count": 44,
     "metadata": {},
     "output_type": "execute_result"
    }
   ],
   "source": [
    "tsf.X_train.to_numpy()[..., np.newaxis].shape"
   ]
  },
  {
   "cell_type": "code",
   "execution_count": 42,
   "metadata": {},
   "outputs": [
    {
     "data": {
      "text/plain": [
       "(289, 1)"
      ]
     },
     "execution_count": 42,
     "metadata": {},
     "output_type": "execute_result"
    }
   ],
   "source": [
    "tsf.X_test.to_numpy()[..., np.newaxis].shape"
   ]
  },
  {
   "cell_type": "code",
   "execution_count": 15,
   "metadata": {},
   "outputs": [
    {
     "ename": "ValueError",
     "evalue": "Expect the data to TimeseriesInput to have shape (batch_size, num_features), but got input shape [32, 21, 1].",
     "output_type": "error",
     "traceback": [
      "\u001b[0;31m---------------------------------------------------------------------------\u001b[0m",
      "\u001b[0;31mValueError\u001b[0m                                Traceback (most recent call last)",
      "\u001b[1;32m/home/dspserver/andrew/TSDatasets/keras_auto.ipynb Cell 6'\u001b[0m in \u001b[0;36m<cell line: 13>\u001b[0;34m()\u001b[0m\n\u001b[1;32m      <a href='vscode-notebook-cell://ssh-remote%2B7b22686f73744e616d65223a2252545838303030227d/home/dspserver/andrew/TSDatasets/keras_auto.ipynb#ch0000007vscode-remote?line=3'>4</a>\u001b[0m clf \u001b[39m=\u001b[39m ak\u001b[39m.\u001b[39mTimeseriesForecaster(\n\u001b[1;32m      <a href='vscode-notebook-cell://ssh-remote%2B7b22686f73744e616d65223a2252545838303030227d/home/dspserver/andrew/TSDatasets/keras_auto.ipynb#ch0000007vscode-remote?line=4'>5</a>\u001b[0m     lookback\u001b[39m=\u001b[39mlookback,\n\u001b[1;32m      <a href='vscode-notebook-cell://ssh-remote%2B7b22686f73744e616d65223a2252545838303030227d/home/dspserver/andrew/TSDatasets/keras_auto.ipynb#ch0000007vscode-remote?line=5'>6</a>\u001b[0m     predict_from\u001b[39m=\u001b[39mpredict_from,\n\u001b[0;32m   (...)\u001b[0m\n\u001b[1;32m      <a href='vscode-notebook-cell://ssh-remote%2B7b22686f73744e616d65223a2252545838303030227d/home/dspserver/andrew/TSDatasets/keras_auto.ipynb#ch0000007vscode-remote?line=8'>9</a>\u001b[0m     objective\u001b[39m=\u001b[39m\u001b[39m\"\u001b[39m\u001b[39mval_loss\u001b[39m\u001b[39m\"\u001b[39m,\n\u001b[1;32m     <a href='vscode-notebook-cell://ssh-remote%2B7b22686f73744e616d65223a2252545838303030227d/home/dspserver/andrew/TSDatasets/keras_auto.ipynb#ch0000007vscode-remote?line=9'>10</a>\u001b[0m )\n\u001b[1;32m     <a href='vscode-notebook-cell://ssh-remote%2B7b22686f73744e616d65223a2252545838303030227d/home/dspserver/andrew/TSDatasets/keras_auto.ipynb#ch0000007vscode-remote?line=11'>12</a>\u001b[0m \u001b[39m# Train the TimeSeriesForecaster with train data\u001b[39;00m\n\u001b[0;32m---> <a href='vscode-notebook-cell://ssh-remote%2B7b22686f73744e616d65223a2252545838303030227d/home/dspserver/andrew/TSDatasets/keras_auto.ipynb#ch0000007vscode-remote?line=12'>13</a>\u001b[0m clf\u001b[39m.\u001b[39;49mfit(\n\u001b[1;32m     <a href='vscode-notebook-cell://ssh-remote%2B7b22686f73744e616d65223a2252545838303030227d/home/dspserver/andrew/TSDatasets/keras_auto.ipynb#ch0000007vscode-remote?line=13'>14</a>\u001b[0m     x\u001b[39m=\u001b[39;49mtsf\u001b[39m.\u001b[39;49mdata_train[\u001b[39m0\u001b[39;49m],\n\u001b[1;32m     <a href='vscode-notebook-cell://ssh-remote%2B7b22686f73744e616d65223a2252545838303030227d/home/dspserver/andrew/TSDatasets/keras_auto.ipynb#ch0000007vscode-remote?line=14'>15</a>\u001b[0m     y\u001b[39m=\u001b[39;49mtsf\u001b[39m.\u001b[39;49mdata_train[\u001b[39m1\u001b[39;49m],\n\u001b[1;32m     <a href='vscode-notebook-cell://ssh-remote%2B7b22686f73744e616d65223a2252545838303030227d/home/dspserver/andrew/TSDatasets/keras_auto.ipynb#ch0000007vscode-remote?line=15'>16</a>\u001b[0m     validation_data\u001b[39m=\u001b[39;49m(tsf\u001b[39m.\u001b[39;49mdata_valid[\u001b[39m0\u001b[39;49m], tsf\u001b[39m.\u001b[39;49mdata_valid[\u001b[39m1\u001b[39;49m]),\n\u001b[1;32m     <a href='vscode-notebook-cell://ssh-remote%2B7b22686f73744e616d65223a2252545838303030227d/home/dspserver/andrew/TSDatasets/keras_auto.ipynb#ch0000007vscode-remote?line=16'>17</a>\u001b[0m     batch_size\u001b[39m=\u001b[39;49m\u001b[39m32\u001b[39;49m,\n\u001b[1;32m     <a href='vscode-notebook-cell://ssh-remote%2B7b22686f73744e616d65223a2252545838303030227d/home/dspserver/andrew/TSDatasets/keras_auto.ipynb#ch0000007vscode-remote?line=17'>18</a>\u001b[0m     epochs\u001b[39m=\u001b[39;49m\u001b[39m10\u001b[39;49m,\n\u001b[1;32m     <a href='vscode-notebook-cell://ssh-remote%2B7b22686f73744e616d65223a2252545838303030227d/home/dspserver/andrew/TSDatasets/keras_auto.ipynb#ch0000007vscode-remote?line=18'>19</a>\u001b[0m )\n",
      "File \u001b[0;32m~/anaconda3/envs/HO/lib/python3.9/site-packages/autokeras/tasks/time_series_forecaster.py:268\u001b[0m, in \u001b[0;36mTimeseriesForecaster.fit\u001b[0;34m(self, x, y, validation_split, validation_data, **kwargs)\u001b[0m\n\u001b[1;32m    232\u001b[0m \u001b[39mdef\u001b[39;00m \u001b[39mfit\u001b[39m(\n\u001b[1;32m    233\u001b[0m     \u001b[39mself\u001b[39m, x\u001b[39m=\u001b[39m\u001b[39mNone\u001b[39;00m, y\u001b[39m=\u001b[39m\u001b[39mNone\u001b[39;00m, validation_split\u001b[39m=\u001b[39m\u001b[39m0.2\u001b[39m, validation_data\u001b[39m=\u001b[39m\u001b[39mNone\u001b[39;00m, \u001b[39m*\u001b[39m\u001b[39m*\u001b[39mkwargs\n\u001b[1;32m    234\u001b[0m ):\n\u001b[1;32m    235\u001b[0m     \u001b[39m\"\"\"Search for the best model and hyperparameters for the AutoModel.\u001b[39;00m\n\u001b[1;32m    236\u001b[0m \n\u001b[1;32m    237\u001b[0m \u001b[39m    # Arguments\u001b[39;00m\n\u001b[0;32m   (...)\u001b[0m\n\u001b[1;32m    266\u001b[0m \u001b[39m            [keras.Model.fit](https://www.tensorflow.org/api_docs/python/tf/keras/Model#fit).\u001b[39;00m\n\u001b[1;32m    267\u001b[0m \u001b[39m    \"\"\"\u001b[39;00m\n\u001b[0;32m--> 268\u001b[0m     \u001b[39msuper\u001b[39;49m()\u001b[39m.\u001b[39;49mfit(\n\u001b[1;32m    269\u001b[0m         x\u001b[39m=\u001b[39;49mx,\n\u001b[1;32m    270\u001b[0m         y\u001b[39m=\u001b[39;49my,\n\u001b[1;32m    271\u001b[0m         validation_split\u001b[39m=\u001b[39;49mvalidation_split,\n\u001b[1;32m    272\u001b[0m         validation_data\u001b[39m=\u001b[39;49mvalidation_data,\n\u001b[1;32m    273\u001b[0m         \u001b[39m*\u001b[39;49m\u001b[39m*\u001b[39;49mkwargs\n\u001b[1;32m    274\u001b[0m     )\n",
      "File \u001b[0;32m~/anaconda3/envs/HO/lib/python3.9/site-packages/autokeras/tasks/time_series_forecaster.py:88\u001b[0m, in \u001b[0;36mSupervisedTimeseriesDataPipeline.fit\u001b[0;34m(self, x, y, epochs, callbacks, validation_split, validation_data, **kwargs)\u001b[0m\n\u001b[1;32m     85\u001b[0m     y_val \u001b[39m=\u001b[39m y_val[\u001b[39mself\u001b[39m\u001b[39m.\u001b[39mlookback \u001b[39m-\u001b[39m \u001b[39m1\u001b[39m :]\n\u001b[1;32m     86\u001b[0m     validation_data \u001b[39m=\u001b[39m x_val, y_val\n\u001b[0;32m---> 88\u001b[0m history \u001b[39m=\u001b[39m \u001b[39msuper\u001b[39;49m()\u001b[39m.\u001b[39;49mfit(\n\u001b[1;32m     89\u001b[0m     x\u001b[39m=\u001b[39;49mx[: \u001b[39mself\u001b[39;49m\u001b[39m.\u001b[39;49mtrain_len],\n\u001b[1;32m     90\u001b[0m     y\u001b[39m=\u001b[39;49my[\u001b[39mself\u001b[39;49m\u001b[39m.\u001b[39;49mlookback \u001b[39m-\u001b[39;49m \u001b[39m1\u001b[39;49m :],\n\u001b[1;32m     91\u001b[0m     epochs\u001b[39m=\u001b[39;49mepochs,\n\u001b[1;32m     92\u001b[0m     callbacks\u001b[39m=\u001b[39;49mcallbacks,\n\u001b[1;32m     93\u001b[0m     validation_split\u001b[39m=\u001b[39;49mvalidation_split,\n\u001b[1;32m     94\u001b[0m     validation_data\u001b[39m=\u001b[39;49mvalidation_data,\n\u001b[1;32m     95\u001b[0m     \u001b[39m*\u001b[39;49m\u001b[39m*\u001b[39;49mkwargs\n\u001b[1;32m     96\u001b[0m )\n\u001b[1;32m     97\u001b[0m \u001b[39mreturn\u001b[39;00m history\n",
      "File \u001b[0;32m~/anaconda3/envs/HO/lib/python3.9/site-packages/autokeras/tasks/structured_data.py:139\u001b[0m, in \u001b[0;36mBaseStructuredDataPipeline.fit\u001b[0;34m(self, x, y, epochs, callbacks, validation_split, validation_data, **kwargs)\u001b[0m\n\u001b[1;32m    135\u001b[0m         validation_data \u001b[39m=\u001b[39m \u001b[39mself\u001b[39m\u001b[39m.\u001b[39m_read_from_csv(x_val, y_val)\n\u001b[1;32m    137\u001b[0m \u001b[39mself\u001b[39m\u001b[39m.\u001b[39mcheck_in_fit(x)\n\u001b[0;32m--> 139\u001b[0m history \u001b[39m=\u001b[39m \u001b[39msuper\u001b[39;49m()\u001b[39m.\u001b[39;49mfit(\n\u001b[1;32m    140\u001b[0m     x\u001b[39m=\u001b[39;49mx,\n\u001b[1;32m    141\u001b[0m     y\u001b[39m=\u001b[39;49my,\n\u001b[1;32m    142\u001b[0m     epochs\u001b[39m=\u001b[39;49mepochs,\n\u001b[1;32m    143\u001b[0m     callbacks\u001b[39m=\u001b[39;49mcallbacks,\n\u001b[1;32m    144\u001b[0m     validation_split\u001b[39m=\u001b[39;49mvalidation_split,\n\u001b[1;32m    145\u001b[0m     validation_data\u001b[39m=\u001b[39;49mvalidation_data,\n\u001b[1;32m    146\u001b[0m     \u001b[39m*\u001b[39;49m\u001b[39m*\u001b[39;49mkwargs\n\u001b[1;32m    147\u001b[0m )\n\u001b[1;32m    148\u001b[0m \u001b[39mreturn\u001b[39;00m history\n",
      "File \u001b[0;32m~/anaconda3/envs/HO/lib/python3.9/site-packages/autokeras/auto_model.py:283\u001b[0m, in \u001b[0;36mAutoModel.fit\u001b[0;34m(self, x, y, batch_size, epochs, callbacks, validation_split, validation_data, verbose, **kwargs)\u001b[0m\n\u001b[1;32m    278\u001b[0m     validation_split \u001b[39m=\u001b[39m \u001b[39m0\u001b[39m\n\u001b[1;32m    280\u001b[0m dataset, validation_data \u001b[39m=\u001b[39m \u001b[39mself\u001b[39m\u001b[39m.\u001b[39m_convert_to_dataset(\n\u001b[1;32m    281\u001b[0m     x\u001b[39m=\u001b[39mx, y\u001b[39m=\u001b[39my, validation_data\u001b[39m=\u001b[39mvalidation_data, batch_size\u001b[39m=\u001b[39mbatch_size\n\u001b[1;32m    282\u001b[0m )\n\u001b[0;32m--> 283\u001b[0m \u001b[39mself\u001b[39;49m\u001b[39m.\u001b[39;49m_analyze_data(dataset)\n\u001b[1;32m    284\u001b[0m \u001b[39mself\u001b[39m\u001b[39m.\u001b[39m_build_hyper_pipeline(dataset)\n\u001b[1;32m    286\u001b[0m \u001b[39m# Split the data with validation_split.\u001b[39;00m\n",
      "File \u001b[0;32m~/anaconda3/envs/HO/lib/python3.9/site-packages/autokeras/auto_model.py:376\u001b[0m, in \u001b[0;36mAutoModel._analyze_data\u001b[0;34m(self, dataset)\u001b[0m\n\u001b[1;32m    373\u001b[0m         analyser\u001b[39m.\u001b[39mupdate(item)\n\u001b[1;32m    375\u001b[0m \u001b[39mfor\u001b[39;00m analyser \u001b[39min\u001b[39;00m analysers:\n\u001b[0;32m--> 376\u001b[0m     analyser\u001b[39m.\u001b[39;49mfinalize()\n\u001b[1;32m    378\u001b[0m \u001b[39mfor\u001b[39;00m hm, analyser \u001b[39min\u001b[39;00m \u001b[39mzip\u001b[39m(\u001b[39mself\u001b[39m\u001b[39m.\u001b[39minputs \u001b[39m+\u001b[39m \u001b[39mself\u001b[39m\u001b[39m.\u001b[39m_heads, analysers):\n\u001b[1;32m    379\u001b[0m     hm\u001b[39m.\u001b[39mconfig_from_analyser(analyser)\n",
      "File \u001b[0;32m~/anaconda3/envs/HO/lib/python3.9/site-packages/autokeras/analysers/input_analysers.py:103\u001b[0m, in \u001b[0;36mStructuredDataAnalyser.finalize\u001b[0;34m(self)\u001b[0m\n\u001b[1;32m    102\u001b[0m \u001b[39mdef\u001b[39;00m \u001b[39mfinalize\u001b[39m(\u001b[39mself\u001b[39m):\n\u001b[0;32m--> 103\u001b[0m     \u001b[39mself\u001b[39;49m\u001b[39m.\u001b[39;49mcheck()\n\u001b[1;32m    104\u001b[0m     \u001b[39mself\u001b[39m\u001b[39m.\u001b[39minfer_column_types()\n",
      "File \u001b[0;32m~/anaconda3/envs/HO/lib/python3.9/site-packages/autokeras/analysers/input_analysers.py:111\u001b[0m, in \u001b[0;36mStructuredDataAnalyser.check\u001b[0;34m(self)\u001b[0m\n\u001b[1;32m    109\u001b[0m \u001b[39mdef\u001b[39;00m \u001b[39mcheck\u001b[39m(\u001b[39mself\u001b[39m):\n\u001b[1;32m    110\u001b[0m     \u001b[39mif\u001b[39;00m \u001b[39mlen\u001b[39m(\u001b[39mself\u001b[39m\u001b[39m.\u001b[39mshape) \u001b[39m!=\u001b[39m \u001b[39m2\u001b[39m:\n\u001b[0;32m--> 111\u001b[0m         \u001b[39mraise\u001b[39;00m \u001b[39mValueError\u001b[39;00m(\n\u001b[1;32m    112\u001b[0m             \u001b[39m\"\u001b[39m\u001b[39mExpect the data to \u001b[39m\u001b[39m{input_name}\u001b[39;00m\u001b[39m to have shape \u001b[39m\u001b[39m\"\u001b[39m\n\u001b[1;32m    113\u001b[0m             \u001b[39m\"\u001b[39m\u001b[39m(batch_size, num_features), but \u001b[39m\u001b[39m\"\u001b[39m\n\u001b[1;32m    114\u001b[0m             \u001b[39m\"\u001b[39m\u001b[39mgot input shape \u001b[39m\u001b[39m{shape}\u001b[39;00m\u001b[39m.\u001b[39m\u001b[39m\"\u001b[39m\u001b[39m.\u001b[39mformat(\n\u001b[1;32m    115\u001b[0m                 input_name\u001b[39m=\u001b[39m\u001b[39mself\u001b[39m\u001b[39m.\u001b[39mget_input_name(), shape\u001b[39m=\u001b[39m\u001b[39mself\u001b[39m\u001b[39m.\u001b[39mshape\n\u001b[1;32m    116\u001b[0m             )\n\u001b[1;32m    117\u001b[0m         )\n\u001b[1;32m    119\u001b[0m     \u001b[39m# Fill in the column_names\u001b[39;00m\n\u001b[1;32m    120\u001b[0m     \u001b[39mif\u001b[39;00m \u001b[39mself\u001b[39m\u001b[39m.\u001b[39mcolumn_names \u001b[39mis\u001b[39;00m \u001b[39mNone\u001b[39;00m:\n",
      "\u001b[0;31mValueError\u001b[0m: Expect the data to TimeseriesInput to have shape (batch_size, num_features), but got input shape [32, 21, 1]."
     ]
    }
   ],
   "source": [
    "predict_from = 1\n",
    "predict_until = 10\n",
    "lookback = 3\n",
    "clf = ak.TimeseriesForecaster(\n",
    "    lookback=lookback,\n",
    "    predict_from=predict_from,\n",
    "    predict_until=predict_until,\n",
    "    max_trials=10,\n",
    "    objective=\"val_loss\",\n",
    ")\n",
    "\n",
    "# Train the TimeSeriesForecaster with train data\n",
    "clf.fit(\n",
    "    x=tsf.data_train[0],\n",
    "    y=tsf.data_train[1],\n",
    "    validation_data=(tsf.data_valid[0], tsf.data_valid[1]),\n",
    "    batch_size=32,\n",
    "    epochs=10,\n",
    ")\n",
    "# Predict with the best model(includes original training data).\n",
    "# predictions = clf.predict(tsf.X_test.to_numpy()[..., np.newaxis])\n",
    "# print(predictions.shape)\n",
    "# Evaluate the best model with testing data.\n",
    "# print(clf.evaluate(tsf.X_valid.to_numpy()[..., np.newaxis], tsf.X_valid.to_numpy()))\n"
   ]
  },
  {
   "cell_type": "code",
   "execution_count": 12,
   "metadata": {},
   "outputs": [
    {
     "ename": "ValueError",
     "evalue": "The prediction data requires the original training data to make predictions on subsequent data points",
     "output_type": "error",
     "traceback": [
      "\u001b[0;31m---------------------------------------------------------------------------\u001b[0m",
      "\u001b[0;31mValueError\u001b[0m                                Traceback (most recent call last)",
      "\u001b[1;32m/home/dspserver/andrew/TSDatasets/keras_auto.ipynb Cell 7'\u001b[0m in \u001b[0;36m<cell line: 2>\u001b[0;34m()\u001b[0m\n\u001b[1;32m      <a href='vscode-notebook-cell://ssh-remote%2B7b22686f73744e616d65223a2252545838303030227d/home/dspserver/andrew/TSDatasets/keras_auto.ipynb#ch0000017vscode-remote?line=0'>1</a>\u001b[0m \u001b[39m# Predict with the best model(includes original training data).\u001b[39;00m\n\u001b[0;32m----> <a href='vscode-notebook-cell://ssh-remote%2B7b22686f73744e616d65223a2252545838303030227d/home/dspserver/andrew/TSDatasets/keras_auto.ipynb#ch0000017vscode-remote?line=1'>2</a>\u001b[0m predictions \u001b[39m=\u001b[39m clf\u001b[39m.\u001b[39;49mpredict(tsf\u001b[39m.\u001b[39;49mX_test\u001b[39m.\u001b[39;49mto_numpy()[\u001b[39m.\u001b[39;49m\u001b[39m.\u001b[39;49m\u001b[39m.\u001b[39;49m, np\u001b[39m.\u001b[39;49mnewaxis])\n\u001b[1;32m      <a href='vscode-notebook-cell://ssh-remote%2B7b22686f73744e616d65223a2252545838303030227d/home/dspserver/andrew/TSDatasets/keras_auto.ipynb#ch0000017vscode-remote?line=2'>3</a>\u001b[0m \u001b[39mprint\u001b[39m(predictions\u001b[39m.\u001b[39mshape)\n\u001b[1;32m      <a href='vscode-notebook-cell://ssh-remote%2B7b22686f73744e616d65223a2252545838303030227d/home/dspserver/andrew/TSDatasets/keras_auto.ipynb#ch0000017vscode-remote?line=3'>4</a>\u001b[0m \u001b[39m# Evaluate the best model with testing data.\u001b[39;00m\n",
      "File \u001b[0;32m~/anaconda3/envs/HO/lib/python3.9/site-packages/autokeras/tasks/time_series_forecaster.py:289\u001b[0m, in \u001b[0;36mTimeseriesForecaster.predict\u001b[0;34m(self, x, **kwargs)\u001b[0m\n\u001b[1;32m    276\u001b[0m \u001b[39mdef\u001b[39;00m \u001b[39mpredict\u001b[39m(\u001b[39mself\u001b[39m, x\u001b[39m=\u001b[39m\u001b[39mNone\u001b[39;00m, \u001b[39m*\u001b[39m\u001b[39m*\u001b[39mkwargs):\n\u001b[1;32m    277\u001b[0m     \u001b[39m\"\"\"Predict the output for a given testing data.\u001b[39;00m\n\u001b[1;32m    278\u001b[0m \n\u001b[1;32m    279\u001b[0m \u001b[39m    # Arguments\u001b[39;00m\n\u001b[0;32m   (...)\u001b[0m\n\u001b[1;32m    287\u001b[0m \u001b[39m        The predicted results.\u001b[39;00m\n\u001b[1;32m    288\u001b[0m \u001b[39m    \"\"\"\u001b[39;00m\n\u001b[0;32m--> 289\u001b[0m     \u001b[39mreturn\u001b[39;00m \u001b[39msuper\u001b[39;49m()\u001b[39m.\u001b[39;49mpredict(x\u001b[39m=\u001b[39;49mx, \u001b[39m*\u001b[39;49m\u001b[39m*\u001b[39;49mkwargs)\n",
      "File \u001b[0;32m~/anaconda3/envs/HO/lib/python3.9/site-packages/autokeras/tasks/time_series_forecaster.py:102\u001b[0m, in \u001b[0;36mSupervisedTimeseriesDataPipeline.predict\u001b[0;34m(self, x, **kwargs)\u001b[0m\n\u001b[1;32m    100\u001b[0m x \u001b[39m=\u001b[39m \u001b[39mself\u001b[39m\u001b[39m.\u001b[39mread_for_predict(x)\n\u001b[1;32m    101\u001b[0m \u001b[39mif\u001b[39;00m \u001b[39mlen\u001b[39m(x) \u001b[39m<\u001b[39m \u001b[39mself\u001b[39m\u001b[39m.\u001b[39mtrain_len:\n\u001b[0;32m--> 102\u001b[0m     \u001b[39mraise\u001b[39;00m \u001b[39mValueError\u001b[39;00m(\n\u001b[1;32m    103\u001b[0m         \u001b[39m\"\u001b[39m\u001b[39mThe prediction data requires the original training\u001b[39m\u001b[39m\"\u001b[39m\n\u001b[1;32m    104\u001b[0m         \u001b[39m\"\u001b[39m\u001b[39m data to make predictions on subsequent data points\u001b[39m\u001b[39m\"\u001b[39m\n\u001b[1;32m    105\u001b[0m     )\n\u001b[1;32m    106\u001b[0m y_pred \u001b[39m=\u001b[39m \u001b[39msuper\u001b[39m()\u001b[39m.\u001b[39mpredict(x\u001b[39m=\u001b[39mx, \u001b[39m*\u001b[39m\u001b[39m*\u001b[39mkwargs)\n\u001b[1;32m    107\u001b[0m lower_bound \u001b[39m=\u001b[39m \u001b[39mself\u001b[39m\u001b[39m.\u001b[39mtrain_len \u001b[39m+\u001b[39m \u001b[39mself\u001b[39m\u001b[39m.\u001b[39mpredict_from\n",
      "\u001b[0;31mValueError\u001b[0m: The prediction data requires the original training data to make predictions on subsequent data points"
     ]
    }
   ],
   "source": [
    "# Predict with the best model(includes original training data).\n",
    "predictions = clf.predict(tsf.X_test.to_numpy()[..., np.newaxis])\n",
    "print(predictions.shape)\n",
    "# Evaluate the best model with testing data.\n",
    "print(clf.evaluate(tsf.X_valid.to_numpy()[..., np.newaxis], tsf.X_valid.to_numpy()))"
   ]
  },
  {
   "cell_type": "code",
   "execution_count": 8,
   "metadata": {},
   "outputs": [
    {
     "data": {
      "text/html": [
       "<div>\n",
       "<style scoped>\n",
       "    .dataframe tbody tr th:only-of-type {\n",
       "        vertical-align: middle;\n",
       "    }\n",
       "\n",
       "    .dataframe tbody tr th {\n",
       "        vertical-align: top;\n",
       "    }\n",
       "\n",
       "    .dataframe thead th {\n",
       "        text-align: right;\n",
       "    }\n",
       "</style>\n",
       "<table border=\"1\" class=\"dataframe\">\n",
       "  <thead>\n",
       "    <tr style=\"text-align: right;\">\n",
       "      <th></th>\n",
       "      <th>CO(GT)</th>\n",
       "      <th>PT08.S1(CO)</th>\n",
       "      <th>NMHC(GT)</th>\n",
       "      <th>C6H6(GT)</th>\n",
       "      <th>PT08.S2(NMHC)</th>\n",
       "      <th>NOx(GT)</th>\n",
       "      <th>PT08.S3(NOx)</th>\n",
       "      <th>NO2(GT)</th>\n",
       "      <th>PT08.S4(NO2)</th>\n",
       "      <th>PT08.S5(O3)</th>\n",
       "      <th>T</th>\n",
       "      <th>RH</th>\n",
       "    </tr>\n",
       "  </thead>\n",
       "  <tbody>\n",
       "    <tr>\n",
       "      <th>0</th>\n",
       "      <td>2.6</td>\n",
       "      <td>1360.0</td>\n",
       "      <td>150.0</td>\n",
       "      <td>11.9</td>\n",
       "      <td>1046.0</td>\n",
       "      <td>166.0</td>\n",
       "      <td>1056.0</td>\n",
       "      <td>113.0</td>\n",
       "      <td>1692.0</td>\n",
       "      <td>1268.0</td>\n",
       "      <td>13.6</td>\n",
       "      <td>48.9</td>\n",
       "    </tr>\n",
       "    <tr>\n",
       "      <th>1</th>\n",
       "      <td>2.0</td>\n",
       "      <td>1292.0</td>\n",
       "      <td>112.0</td>\n",
       "      <td>9.4</td>\n",
       "      <td>955.0</td>\n",
       "      <td>103.0</td>\n",
       "      <td>1174.0</td>\n",
       "      <td>92.0</td>\n",
       "      <td>1559.0</td>\n",
       "      <td>972.0</td>\n",
       "      <td>13.3</td>\n",
       "      <td>47.7</td>\n",
       "    </tr>\n",
       "    <tr>\n",
       "      <th>2</th>\n",
       "      <td>2.2</td>\n",
       "      <td>1402.0</td>\n",
       "      <td>88.0</td>\n",
       "      <td>9.0</td>\n",
       "      <td>939.0</td>\n",
       "      <td>131.0</td>\n",
       "      <td>1140.0</td>\n",
       "      <td>114.0</td>\n",
       "      <td>1555.0</td>\n",
       "      <td>1074.0</td>\n",
       "      <td>11.9</td>\n",
       "      <td>54.0</td>\n",
       "    </tr>\n",
       "    <tr>\n",
       "      <th>3</th>\n",
       "      <td>2.2</td>\n",
       "      <td>1376.0</td>\n",
       "      <td>80.0</td>\n",
       "      <td>9.2</td>\n",
       "      <td>948.0</td>\n",
       "      <td>172.0</td>\n",
       "      <td>1092.0</td>\n",
       "      <td>122.0</td>\n",
       "      <td>1584.0</td>\n",
       "      <td>1203.0</td>\n",
       "      <td>11.0</td>\n",
       "      <td>60.0</td>\n",
       "    </tr>\n",
       "    <tr>\n",
       "      <th>4</th>\n",
       "      <td>1.6</td>\n",
       "      <td>1272.0</td>\n",
       "      <td>51.0</td>\n",
       "      <td>6.5</td>\n",
       "      <td>836.0</td>\n",
       "      <td>131.0</td>\n",
       "      <td>1205.0</td>\n",
       "      <td>116.0</td>\n",
       "      <td>1490.0</td>\n",
       "      <td>1110.0</td>\n",
       "      <td>11.2</td>\n",
       "      <td>59.6</td>\n",
       "    </tr>\n",
       "    <tr>\n",
       "      <th>...</th>\n",
       "      <td>...</td>\n",
       "      <td>...</td>\n",
       "      <td>...</td>\n",
       "      <td>...</td>\n",
       "      <td>...</td>\n",
       "      <td>...</td>\n",
       "      <td>...</td>\n",
       "      <td>...</td>\n",
       "      <td>...</td>\n",
       "      <td>...</td>\n",
       "      <td>...</td>\n",
       "      <td>...</td>\n",
       "    </tr>\n",
       "    <tr>\n",
       "      <th>6544</th>\n",
       "      <td>1.7</td>\n",
       "      <td>1111.0</td>\n",
       "      <td>-200.0</td>\n",
       "      <td>7.6</td>\n",
       "      <td>884.0</td>\n",
       "      <td>310.0</td>\n",
       "      <td>751.0</td>\n",
       "      <td>81.0</td>\n",
       "      <td>1280.0</td>\n",
       "      <td>1025.0</td>\n",
       "      <td>13.1</td>\n",
       "      <td>66.2</td>\n",
       "    </tr>\n",
       "    <tr>\n",
       "      <th>6545</th>\n",
       "      <td>2.3</td>\n",
       "      <td>1206.0</td>\n",
       "      <td>-200.0</td>\n",
       "      <td>9.8</td>\n",
       "      <td>969.0</td>\n",
       "      <td>363.0</td>\n",
       "      <td>701.0</td>\n",
       "      <td>95.0</td>\n",
       "      <td>1365.0</td>\n",
       "      <td>1178.0</td>\n",
       "      <td>14.3</td>\n",
       "      <td>63.3</td>\n",
       "    </tr>\n",
       "    <tr>\n",
       "      <th>6546</th>\n",
       "      <td>2.1</td>\n",
       "      <td>1202.0</td>\n",
       "      <td>-200.0</td>\n",
       "      <td>9.5</td>\n",
       "      <td>958.0</td>\n",
       "      <td>302.0</td>\n",
       "      <td>732.0</td>\n",
       "      <td>92.0</td>\n",
       "      <td>1330.0</td>\n",
       "      <td>1181.0</td>\n",
       "      <td>16.0</td>\n",
       "      <td>58.1</td>\n",
       "    </tr>\n",
       "    <tr>\n",
       "      <th>6547</th>\n",
       "      <td>2.7</td>\n",
       "      <td>1261.0</td>\n",
       "      <td>-200.0</td>\n",
       "      <td>11.2</td>\n",
       "      <td>1022.0</td>\n",
       "      <td>424.0</td>\n",
       "      <td>635.0</td>\n",
       "      <td>113.0</td>\n",
       "      <td>1407.0</td>\n",
       "      <td>1250.0</td>\n",
       "      <td>17.3</td>\n",
       "      <td>53.9</td>\n",
       "    </tr>\n",
       "    <tr>\n",
       "      <th>6548</th>\n",
       "      <td>2.3</td>\n",
       "      <td>1102.0</td>\n",
       "      <td>-200.0</td>\n",
       "      <td>6.9</td>\n",
       "      <td>855.0</td>\n",
       "      <td>258.0</td>\n",
       "      <td>763.0</td>\n",
       "      <td>98.0</td>\n",
       "      <td>1279.0</td>\n",
       "      <td>1039.0</td>\n",
       "      <td>17.3</td>\n",
       "      <td>53.3</td>\n",
       "    </tr>\n",
       "  </tbody>\n",
       "</table>\n",
       "<p>6549 rows × 12 columns</p>\n",
       "</div>"
      ],
      "text/plain": [
       "      CO(GT)  PT08.S1(CO)  NMHC(GT)  C6H6(GT)  PT08.S2(NMHC)  NOx(GT)  \\\n",
       "0        2.6       1360.0     150.0      11.9         1046.0    166.0   \n",
       "1        2.0       1292.0     112.0       9.4          955.0    103.0   \n",
       "2        2.2       1402.0      88.0       9.0          939.0    131.0   \n",
       "3        2.2       1376.0      80.0       9.2          948.0    172.0   \n",
       "4        1.6       1272.0      51.0       6.5          836.0    131.0   \n",
       "...      ...          ...       ...       ...            ...      ...   \n",
       "6544     1.7       1111.0    -200.0       7.6          884.0    310.0   \n",
       "6545     2.3       1206.0    -200.0       9.8          969.0    363.0   \n",
       "6546     2.1       1202.0    -200.0       9.5          958.0    302.0   \n",
       "6547     2.7       1261.0    -200.0      11.2         1022.0    424.0   \n",
       "6548     2.3       1102.0    -200.0       6.9          855.0    258.0   \n",
       "\n",
       "      PT08.S3(NOx)  NO2(GT)  PT08.S4(NO2)  PT08.S5(O3)     T    RH  \n",
       "0           1056.0    113.0        1692.0       1268.0  13.6  48.9  \n",
       "1           1174.0     92.0        1559.0        972.0  13.3  47.7  \n",
       "2           1140.0    114.0        1555.0       1074.0  11.9  54.0  \n",
       "3           1092.0    122.0        1584.0       1203.0  11.0  60.0  \n",
       "4           1205.0    116.0        1490.0       1110.0  11.2  59.6  \n",
       "...            ...      ...           ...          ...   ...   ...  \n",
       "6544         751.0     81.0        1280.0       1025.0  13.1  66.2  \n",
       "6545         701.0     95.0        1365.0       1178.0  14.3  63.3  \n",
       "6546         732.0     92.0        1330.0       1181.0  16.0  58.1  \n",
       "6547         635.0    113.0        1407.0       1250.0  17.3  53.9  \n",
       "6548         763.0     98.0        1279.0       1039.0  17.3  53.3  \n",
       "\n",
       "[6549 rows x 12 columns]"
      ]
     },
     "execution_count": 8,
     "metadata": {},
     "output_type": "execute_result"
    }
   ],
   "source": [
    "data_x"
   ]
  },
  {
   "cell_type": "code",
   "execution_count": 14,
   "metadata": {},
   "outputs": [
    {
     "data": {
      "text/plain": [
       "0       0.7578\n",
       "1       0.7255\n",
       "2       0.7502\n",
       "3       0.7867\n",
       "4       0.7888\n",
       "         ...  \n",
       "6544    0.9933\n",
       "6545    1.0266\n",
       "6546    1.0482\n",
       "6547    1.0562\n",
       "6548    1.0407\n",
       "Name: AH, Length: 6549, dtype: float64"
      ]
     },
     "execution_count": 14,
     "metadata": {},
     "output_type": "execute_result"
    }
   ],
   "source": [
    "data_y"
   ]
  },
  {
   "cell_type": "code",
   "execution_count": 5,
   "metadata": {},
   "outputs": [
    {
     "data": {
      "text/html": [
       "<div>\n",
       "<style scoped>\n",
       "    .dataframe tbody tr th:only-of-type {\n",
       "        vertical-align: middle;\n",
       "    }\n",
       "\n",
       "    .dataframe tbody tr th {\n",
       "        vertical-align: top;\n",
       "    }\n",
       "\n",
       "    .dataframe thead th {\n",
       "        text-align: right;\n",
       "    }\n",
       "</style>\n",
       "<table border=\"1\" class=\"dataframe\">\n",
       "  <thead>\n",
       "    <tr style=\"text-align: right;\">\n",
       "      <th></th>\n",
       "      <th>CO(GT)</th>\n",
       "      <th>PT08.S1(CO)</th>\n",
       "      <th>NMHC(GT)</th>\n",
       "      <th>C6H6(GT)</th>\n",
       "      <th>PT08.S2(NMHC)</th>\n",
       "      <th>NOx(GT)</th>\n",
       "      <th>PT08.S3(NOx)</th>\n",
       "      <th>NO2(GT)</th>\n",
       "      <th>PT08.S4(NO2)</th>\n",
       "      <th>PT08.S5(O3)</th>\n",
       "      <th>T</th>\n",
       "      <th>RH</th>\n",
       "    </tr>\n",
       "  </thead>\n",
       "  <tbody>\n",
       "    <tr>\n",
       "      <th>6549</th>\n",
       "      <td>1.2</td>\n",
       "      <td>997.0</td>\n",
       "      <td>-200.0</td>\n",
       "      <td>4.6</td>\n",
       "      <td>742.0</td>\n",
       "      <td>179.0</td>\n",
       "      <td>911.0</td>\n",
       "      <td>82.0</td>\n",
       "      <td>1180.0</td>\n",
       "      <td>899.0</td>\n",
       "      <td>16.7</td>\n",
       "      <td>54.7</td>\n",
       "    </tr>\n",
       "    <tr>\n",
       "      <th>6550</th>\n",
       "      <td>1.4</td>\n",
       "      <td>1049.0</td>\n",
       "      <td>-200.0</td>\n",
       "      <td>5.5</td>\n",
       "      <td>790.0</td>\n",
       "      <td>221.0</td>\n",
       "      <td>870.0</td>\n",
       "      <td>96.0</td>\n",
       "      <td>1183.0</td>\n",
       "      <td>1019.0</td>\n",
       "      <td>15.4</td>\n",
       "      <td>58.9</td>\n",
       "    </tr>\n",
       "    <tr>\n",
       "      <th>6551</th>\n",
       "      <td>1.9</td>\n",
       "      <td>1082.0</td>\n",
       "      <td>-200.0</td>\n",
       "      <td>6.5</td>\n",
       "      <td>834.0</td>\n",
       "      <td>303.0</td>\n",
       "      <td>800.0</td>\n",
       "      <td>107.0</td>\n",
       "      <td>1207.0</td>\n",
       "      <td>1057.0</td>\n",
       "      <td>15.2</td>\n",
       "      <td>58.0</td>\n",
       "    </tr>\n",
       "    <tr>\n",
       "      <th>6552</th>\n",
       "      <td>2.6</td>\n",
       "      <td>1177.0</td>\n",
       "      <td>-200.0</td>\n",
       "      <td>10.3</td>\n",
       "      <td>987.0</td>\n",
       "      <td>429.0</td>\n",
       "      <td>692.0</td>\n",
       "      <td>119.0</td>\n",
       "      <td>1324.0</td>\n",
       "      <td>1229.0</td>\n",
       "      <td>16.2</td>\n",
       "      <td>54.5</td>\n",
       "    </tr>\n",
       "    <tr>\n",
       "      <th>6553</th>\n",
       "      <td>2.4</td>\n",
       "      <td>1166.0</td>\n",
       "      <td>-200.0</td>\n",
       "      <td>8.9</td>\n",
       "      <td>935.0</td>\n",
       "      <td>357.0</td>\n",
       "      <td>756.0</td>\n",
       "      <td>114.0</td>\n",
       "      <td>1301.0</td>\n",
       "      <td>1135.0</td>\n",
       "      <td>16.5</td>\n",
       "      <td>55.3</td>\n",
       "    </tr>\n",
       "    <tr>\n",
       "      <th>...</th>\n",
       "      <td>...</td>\n",
       "      <td>...</td>\n",
       "      <td>...</td>\n",
       "      <td>...</td>\n",
       "      <td>...</td>\n",
       "      <td>...</td>\n",
       "      <td>...</td>\n",
       "      <td>...</td>\n",
       "      <td>...</td>\n",
       "      <td>...</td>\n",
       "      <td>...</td>\n",
       "      <td>...</td>\n",
       "    </tr>\n",
       "    <tr>\n",
       "      <th>9352</th>\n",
       "      <td>3.1</td>\n",
       "      <td>1314.0</td>\n",
       "      <td>-200.0</td>\n",
       "      <td>13.5</td>\n",
       "      <td>1101.0</td>\n",
       "      <td>472.0</td>\n",
       "      <td>539.0</td>\n",
       "      <td>190.0</td>\n",
       "      <td>1374.0</td>\n",
       "      <td>1729.0</td>\n",
       "      <td>21.9</td>\n",
       "      <td>29.3</td>\n",
       "    </tr>\n",
       "    <tr>\n",
       "      <th>9353</th>\n",
       "      <td>2.4</td>\n",
       "      <td>1163.0</td>\n",
       "      <td>-200.0</td>\n",
       "      <td>11.4</td>\n",
       "      <td>1027.0</td>\n",
       "      <td>353.0</td>\n",
       "      <td>604.0</td>\n",
       "      <td>179.0</td>\n",
       "      <td>1264.0</td>\n",
       "      <td>1269.0</td>\n",
       "      <td>24.3</td>\n",
       "      <td>23.7</td>\n",
       "    </tr>\n",
       "    <tr>\n",
       "      <th>9354</th>\n",
       "      <td>2.4</td>\n",
       "      <td>1142.0</td>\n",
       "      <td>-200.0</td>\n",
       "      <td>12.4</td>\n",
       "      <td>1063.0</td>\n",
       "      <td>293.0</td>\n",
       "      <td>603.0</td>\n",
       "      <td>175.0</td>\n",
       "      <td>1241.0</td>\n",
       "      <td>1092.0</td>\n",
       "      <td>26.9</td>\n",
       "      <td>18.3</td>\n",
       "    </tr>\n",
       "    <tr>\n",
       "      <th>9355</th>\n",
       "      <td>2.1</td>\n",
       "      <td>1003.0</td>\n",
       "      <td>-200.0</td>\n",
       "      <td>9.5</td>\n",
       "      <td>961.0</td>\n",
       "      <td>235.0</td>\n",
       "      <td>702.0</td>\n",
       "      <td>156.0</td>\n",
       "      <td>1041.0</td>\n",
       "      <td>770.0</td>\n",
       "      <td>28.3</td>\n",
       "      <td>13.5</td>\n",
       "    </tr>\n",
       "    <tr>\n",
       "      <th>9356</th>\n",
       "      <td>2.2</td>\n",
       "      <td>1071.0</td>\n",
       "      <td>-200.0</td>\n",
       "      <td>11.9</td>\n",
       "      <td>1047.0</td>\n",
       "      <td>265.0</td>\n",
       "      <td>654.0</td>\n",
       "      <td>168.0</td>\n",
       "      <td>1129.0</td>\n",
       "      <td>816.0</td>\n",
       "      <td>28.5</td>\n",
       "      <td>13.1</td>\n",
       "    </tr>\n",
       "  </tbody>\n",
       "</table>\n",
       "<p>2808 rows × 12 columns</p>\n",
       "</div>"
      ],
      "text/plain": [
       "      CO(GT)  PT08.S1(CO)  NMHC(GT)  C6H6(GT)  PT08.S2(NMHC)  NOx(GT)  \\\n",
       "6549     1.2        997.0    -200.0       4.6          742.0    179.0   \n",
       "6550     1.4       1049.0    -200.0       5.5          790.0    221.0   \n",
       "6551     1.9       1082.0    -200.0       6.5          834.0    303.0   \n",
       "6552     2.6       1177.0    -200.0      10.3          987.0    429.0   \n",
       "6553     2.4       1166.0    -200.0       8.9          935.0    357.0   \n",
       "...      ...          ...       ...       ...            ...      ...   \n",
       "9352     3.1       1314.0    -200.0      13.5         1101.0    472.0   \n",
       "9353     2.4       1163.0    -200.0      11.4         1027.0    353.0   \n",
       "9354     2.4       1142.0    -200.0      12.4         1063.0    293.0   \n",
       "9355     2.1       1003.0    -200.0       9.5          961.0    235.0   \n",
       "9356     2.2       1071.0    -200.0      11.9         1047.0    265.0   \n",
       "\n",
       "      PT08.S3(NOx)  NO2(GT)  PT08.S4(NO2)  PT08.S5(O3)     T    RH  \n",
       "6549         911.0     82.0        1180.0        899.0  16.7  54.7  \n",
       "6550         870.0     96.0        1183.0       1019.0  15.4  58.9  \n",
       "6551         800.0    107.0        1207.0       1057.0  15.2  58.0  \n",
       "6552         692.0    119.0        1324.0       1229.0  16.2  54.5  \n",
       "6553         756.0    114.0        1301.0       1135.0  16.5  55.3  \n",
       "...            ...      ...           ...          ...   ...   ...  \n",
       "9352         539.0    190.0        1374.0       1729.0  21.9  29.3  \n",
       "9353         604.0    179.0        1264.0       1269.0  24.3  23.7  \n",
       "9354         603.0    175.0        1241.0       1092.0  26.9  18.3  \n",
       "9355         702.0    156.0        1041.0        770.0  28.3  13.5  \n",
       "9356         654.0    168.0        1129.0        816.0  28.5  13.1  \n",
       "\n",
       "[2808 rows x 12 columns]"
      ]
     },
     "execution_count": 5,
     "metadata": {},
     "output_type": "execute_result"
    }
   ],
   "source": [
    "data_x_val"
   ]
  },
  {
   "cell_type": "code",
   "execution_count": 6,
   "metadata": {},
   "outputs": [
    {
     "data": {
      "text/plain": [
       "6549    1.0311\n",
       "6550    1.0200\n",
       "6551    0.9927\n",
       "6552    0.9956\n",
       "6553    1.0267\n",
       "         ...  \n",
       "9352    0.7568\n",
       "9353    0.7119\n",
       "9354    0.6406\n",
       "9355    0.5139\n",
       "9356    0.5028\n",
       "Name: AH, Length: 2808, dtype: float64"
      ]
     },
     "execution_count": 6,
     "metadata": {},
     "output_type": "execute_result"
    }
   ],
   "source": [
    "data_y_val"
   ]
  },
  {
   "cell_type": "code",
   "execution_count": 47,
   "metadata": {},
   "outputs": [
    {
     "name": "stdout",
     "output_type": "stream",
     "text": [
      "INFO:tensorflow:Reloading Oracle from existing project ./time_series_forecaster/oracle.json\n"
     ]
    },
    {
     "name": "stderr",
     "output_type": "stream",
     "text": [
      "INFO:tensorflow:Reloading Oracle from existing project ./time_series_forecaster/oracle.json\n"
     ]
    },
    {
     "name": "stdout",
     "output_type": "stream",
     "text": [
      "INFO:tensorflow:Reloading Tuner from ./time_series_forecaster/tuner0.json\n"
     ]
    },
    {
     "name": "stderr",
     "output_type": "stream",
     "text": [
      "INFO:tensorflow:Reloading Tuner from ./time_series_forecaster/tuner0.json\n"
     ]
    },
    {
     "name": "stdout",
     "output_type": "stream",
     "text": [
      "INFO:tensorflow:Oracle triggered exit\n"
     ]
    },
    {
     "name": "stderr",
     "output_type": "stream",
     "text": [
      "INFO:tensorflow:Oracle triggered exit\n"
     ]
    },
    {
     "name": "stdout",
     "output_type": "stream",
     "text": [
      "Epoch 1/10\n",
      "205/205 [==============================] - 4s 13ms/step - loss: 900.6139 - mean_squared_error: 900.6139 - val_loss: 3066.2898 - val_mean_squared_error: 3066.2898\n",
      "Epoch 2/10\n",
      "205/205 [==============================] - 2s 11ms/step - loss: 888.9660 - mean_squared_error: 888.9660 - val_loss: 3055.0525 - val_mean_squared_error: 3055.0525\n",
      "Epoch 3/10\n",
      "205/205 [==============================] - 2s 11ms/step - loss: 881.2496 - mean_squared_error: 881.2496 - val_loss: 3042.7390 - val_mean_squared_error: 3042.7390\n",
      "Epoch 4/10\n",
      "205/205 [==============================] - 3s 14ms/step - loss: 876.4900 - mean_squared_error: 876.4900 - val_loss: 3029.5874 - val_mean_squared_error: 3029.5874\n",
      "Epoch 5/10\n",
      "205/205 [==============================] - 3s 13ms/step - loss: 871.3320 - mean_squared_error: 871.3320 - val_loss: 3017.9751 - val_mean_squared_error: 3017.9751\n",
      "Epoch 6/10\n",
      "205/205 [==============================] - 3s 13ms/step - loss: 866.5529 - mean_squared_error: 866.5529 - val_loss: 3006.6091 - val_mean_squared_error: 3006.6091\n",
      "Epoch 7/10\n",
      "205/205 [==============================] - 3s 14ms/step - loss: 861.5134 - mean_squared_error: 861.5134 - val_loss: 2995.2405 - val_mean_squared_error: 2995.2405\n",
      "Epoch 8/10\n",
      "205/205 [==============================] - 3s 13ms/step - loss: 856.7663 - mean_squared_error: 856.7663 - val_loss: 2981.3687 - val_mean_squared_error: 2981.3687\n",
      "Epoch 9/10\n",
      "205/205 [==============================] - 3s 13ms/step - loss: 851.4058 - mean_squared_error: 851.4058 - val_loss: 2968.1711 - val_mean_squared_error: 2968.1711\n",
      "Epoch 10/10\n",
      "205/205 [==============================] - 3s 13ms/step - loss: 846.6226 - mean_squared_error: 846.6226 - val_loss: 2955.1204 - val_mean_squared_error: 2955.1204\n"
     ]
    },
    {
     "name": "stderr",
     "output_type": "stream",
     "text": [
      "WARNING:absl:Found untraced functions such as gru_cell_1_layer_call_fn, gru_cell_1_layer_call_and_return_conditional_losses, gru_cell_2_layer_call_fn, gru_cell_2_layer_call_and_return_conditional_losses while saving (showing 4 of 4). These functions will not be directly callable after loading.\n"
     ]
    },
    {
     "name": "stdout",
     "output_type": "stream",
     "text": [
      "INFO:tensorflow:Assets written to: ./time_series_forecaster/best_model/assets\n"
     ]
    },
    {
     "name": "stderr",
     "output_type": "stream",
     "text": [
      "INFO:tensorflow:Assets written to: ./time_series_forecaster/best_model/assets\n"
     ]
    },
    {
     "name": "stdout",
     "output_type": "stream",
     "text": [
      "293/293 [==============================] - 3s 10ms/step\n",
      "293/293 [==============================] - 3s 9ms/step\n",
      "(10, 1)\n"
     ]
    },
    {
     "name": "stderr",
     "output_type": "stream",
     "text": [
      "Exception ignored in: <function _EagerDefinedFunctionDeleter.__del__ at 0x7f767cc68e50>\n",
      "Traceback (most recent call last):\n",
      "  File \"/home/dspserver/anaconda3/envs/HO/lib/python3.9/site-packages/tensorflow/python/eager/function.py\", line 303, in __del__\n",
      "    try:\n",
      "KeyboardInterrupt: \n"
     ]
    },
    {
     "name": "stdout",
     "output_type": "stream",
     "text": [
      "88/88 [==============================] - 1s 6ms/step - loss: 2955.1204 - mean_squared_error: 2955.1204\n",
      "[2955.120361328125, 2955.120361328125]\n"
     ]
    }
   ],
   "source": [
    "predict_from = 1\n",
    "predict_until = 10\n",
    "lookback = 3\n",
    "clf = ak.TimeseriesForecaster(\n",
    "    lookback=lookback,\n",
    "    predict_from=predict_from,\n",
    "    predict_until=predict_until,\n",
    "    max_trials=1,\n",
    "    objective=\"val_loss\",\n",
    ")\n",
    "# Train the TimeSeriesForecaster with train data\n",
    "clf.fit(\n",
    "    x=data_x,\n",
    "    y=data_y,\n",
    "    validation_data=(data_x_val, data_y_val),\n",
    "    batch_size=32,\n",
    "    epochs=10,\n",
    ")\n",
    "# Predict with the best model(includes original training data).\n",
    "predictions = clf.predict(data_x_test)\n",
    "print(predictions.shape)\n",
    "# Evaluate the best model with testing data.\n",
    "print(clf.evaluate(data_x_val, data_y_val))\n"
   ]
  },
  {
   "cell_type": "code",
   "execution_count": 15,
   "metadata": {},
   "outputs": [
    {
     "data": {
      "text/plain": [
       "array([[0.8488437 ],\n",
       "       [0.8489467 ],\n",
       "       [1.0149212 ],\n",
       "       [1.0149212 ],\n",
       "       [1.014921  ],\n",
       "       [1.0145173 ],\n",
       "       [0.8488437 ],\n",
       "       [1.4335226 ],\n",
       "       [0.41878566],\n",
       "       [0.70934165]], dtype=float32)"
      ]
     },
     "execution_count": 15,
     "metadata": {},
     "output_type": "execute_result"
    }
   ],
   "source": [
    "predictions"
   ]
  },
  {
   "cell_type": "code",
   "execution_count": null,
   "metadata": {},
   "outputs": [],
   "source": []
  }
 ],
 "metadata": {
  "kernelspec": {
   "display_name": "Python 3.9.12 ('HO')",
   "language": "python",
   "name": "python3"
  },
  "language_info": {
   "codemirror_mode": {
    "name": "ipython",
    "version": 3
   },
   "file_extension": ".py",
   "mimetype": "text/x-python",
   "name": "python",
   "nbconvert_exporter": "python",
   "pygments_lexer": "ipython3",
   "version": "3.9.12"
  },
  "orig_nbformat": 4,
  "vscode": {
   "interpreter": {
    "hash": "84bb53e1b8090cb3c37a80514771ba5588c241fa5974e3f3b4d8e396d8f231b5"
   }
  }
 },
 "nbformat": 4,
 "nbformat_minor": 2
}
